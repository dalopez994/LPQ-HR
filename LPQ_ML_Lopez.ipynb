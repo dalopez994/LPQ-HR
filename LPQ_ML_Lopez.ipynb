{
  "nbformat": 4,
  "nbformat_minor": 0,
  "metadata": {
    "colab": {
      "name": "LPQ ML -Lopez.ipynb",
      "provenance": [],
      "include_colab_link": true
    },
    "kernelspec": {
      "name": "python3",
      "display_name": "Python 3"
    },
    "language_info": {
      "name": "python"
    }
  },
  "cells": [
    {
      "cell_type": "markdown",
      "metadata": {
        "id": "view-in-github",
        "colab_type": "text"
      },
      "source": [
        "<a href=\"https://colab.research.google.com/github/dalopez994/LPQ-HR/blob/main/LPQ_ML_Lopez.ipynb\" target=\"_parent\"><img src=\"https://colab.research.google.com/assets/colab-badge.svg\" alt=\"Open In Colab\"/></a>"
      ]
    },
    {
      "cell_type": "code",
      "execution_count": null,
      "metadata": {
        "id": "-45c2AQj4kxV"
      },
      "outputs": [],
      "source": [
        "import urllib.request\n",
        "import pandas as pd\n",
        "from sklearn.model_selection import train_test_split\n",
        "from sklearn.ensemble import RandomForestClassifier\n",
        "from sklearn.tree import DecisionTreeClassifier\n",
        "from sklearn.preprocessing import scale, MinMaxScaler"
      ]
    },
    {
      "cell_type": "code",
      "source": [
        "URL = 'https://docs.google.com/spreadsheets/d/1sJArkK2eoDSkPZk4rlCCuq0i99nElMjm/edit?usp=sharing&ouid=103610186518311676983&rtpof=true&sd=true'\n",
        "path = 'https://drive.google.com/uc?export=download&id='+URL.split('/')[-2]\n",
        "df_nomina = pd.read_excel(path)\n",
        "df_nomina['Fecha de egreso de último tramo'] = df_nomina['Fecha de egreso de último tramo'].fillna(pd.to_datetime('today'))\n",
        "df_nomina=df_nomina.assign(Antiguedad=lambda x: ((x['Fecha de egreso de último tramo'] - x['Fecha de ingreso de último tramo'])).astype('<m8[Y]').astype(int) )\n",
        "df_nomina=df_nomina.assign(Edad=lambda x: (pd.Timestamp.today() - x['Fecha de nacimiento']).astype('<m8[Y]').astype(int) )\n",
        "\n",
        "\n"
      ],
      "metadata": {
        "id": "cXAGwIsp53h0"
      },
      "execution_count": null,
      "outputs": []
    },
    {
      "cell_type": "code",
      "source": [
        "#Variables categoricas a numericas\n",
        "df_nomina['cod_sexo']=df_nomina['Sexo'].astype('category').cat.codes\n",
        "df_nomina['cod_nacionalidad']=df_nomina['Nacionalidad'].astype('category').cat.codes\n",
        "df_nomina['cod_estado_civil']=df_nomina['Estado civil'].astype('category').cat.codes"
      ],
      "metadata": {
        "id": "yKTIdJBMBaBw"
      },
      "execution_count": null,
      "outputs": []
    },
    {
      "cell_type": "code",
      "source": [
        "#Filtro los datos que entraran en el modelo\n",
        "df_data=df_nomina.iloc[:, 31:48]"
      ],
      "metadata": {
        "id": "0p7pIT8tCfou"
      },
      "execution_count": null,
      "outputs": []
    },
    {
      "cell_type": "code",
      "source": [
        "#Defino variables\n",
        "X = df_data.drop([\"Activo\",\"Promedio\"], axis=1)\n",
        "y = df_data[\"Activo\"]"
      ],
      "metadata": {
        "id": "gjxrtTZEDt72"
      },
      "execution_count": null,
      "outputs": []
    },
    {
      "cell_type": "code",
      "source": [
        "#Escalo los datos\n",
        "x= scale(X)"
      ],
      "metadata": {
        "id": "ELKEqD4iDeMO"
      },
      "execution_count": null,
      "outputs": []
    },
    {
      "cell_type": "code",
      "source": [
        "(X_train, X_test,y_train, y_test) = train_test_split(X,y,stratify=y,test_size=0.30)"
      ],
      "metadata": {
        "id": "KZiYJcECD0-d"
      },
      "execution_count": null,
      "outputs": []
    },
    {
      "cell_type": "code",
      "source": [
        "tree = DecisionTreeClassifier()\n",
        "tree.fit(X_train, y_train)"
      ],
      "metadata": {
        "colab": {
          "base_uri": "https://localhost:8080/"
        },
        "id": "fUTP20OOEEX2",
        "outputId": "9c2a9469-5762-4ba5-d21d-72a36613c0f0"
      },
      "execution_count": null,
      "outputs": [
        {
          "output_type": "execute_result",
          "data": {
            "text/plain": [
              "DecisionTreeClassifier()"
            ]
          },
          "metadata": {},
          "execution_count": 30
        }
      ]
    },
    {
      "cell_type": "code",
      "source": [
        "y_test_pred = tree.predict(X_test)"
      ],
      "metadata": {
        "id": "i9I6QLiYEEUG"
      },
      "execution_count": null,
      "outputs": []
    },
    {
      "cell_type": "code",
      "source": [
        "from sklearn.metrics import accuracy_score\n",
        "test_accuracy = accuracy_score(y_test, y_test_pred)\n",
        "\n",
        "print('% de aciertos sobre el set de evaluación:',test_accuracy)"
      ],
      "metadata": {
        "colab": {
          "base_uri": "https://localhost:8080/"
        },
        "id": "-YnCW6z1EEQH",
        "outputId": "ea2bac1a-bbf1-42dd-8736-53afe49636f2"
      },
      "execution_count": null,
      "outputs": [
        {
          "output_type": "stream",
          "name": "stdout",
          "text": [
            "% de aciertos sobre el set de evaluación: 0.8235294117647058\n"
          ]
        }
      ]
    },
    {
      "cell_type": "code",
      "source": [
        "model = RandomForestClassifier( n_estimators=200,class_weight=\"balanced\", max_features=\"log2\")\n",
        "model.fit(X_train, y_train)"
      ],
      "metadata": {
        "colab": {
          "base_uri": "https://localhost:8080/"
        },
        "id": "0B2dV1kxEEMV",
        "outputId": "9fb57df4-e8f1-4e99-869f-e26c8d3b9a6f"
      },
      "execution_count": null,
      "outputs": [
        {
          "output_type": "execute_result",
          "data": {
            "text/plain": [
              "RandomForestClassifier(class_weight='balanced', max_features='log2',\n",
              "                       n_estimators=200)"
            ]
          },
          "metadata": {},
          "execution_count": 33
        }
      ]
    },
    {
      "cell_type": "code",
      "source": [
        "y_test_pred = model.predict(X_test)"
      ],
      "metadata": {
        "id": "M6cuF_cREEB2"
      },
      "execution_count": null,
      "outputs": []
    },
    {
      "cell_type": "code",
      "source": [
        "test_accuracy = accuracy_score(y_test, y_test_pred)\n",
        "\n",
        "print('% de aciertos sobre el set de evaluación:',test_accuracy)"
      ],
      "metadata": {
        "colab": {
          "base_uri": "https://localhost:8080/"
        },
        "id": "nuvk2UjvERA-",
        "outputId": "daca25cf-1f67-46dd-d564-ce7696028cb1"
      },
      "execution_count": null,
      "outputs": [
        {
          "output_type": "stream",
          "name": "stdout",
          "text": [
            "% de aciertos sobre el set de evaluación: 0.9215686274509803\n"
          ]
        }
      ]
    },
    {
      "cell_type": "code",
      "source": [
        "df_data"
      ],
      "metadata": {
        "colab": {
          "base_uri": "https://localhost:8080/",
          "height": 488
        },
        "id": "CXTexvzP6InC",
        "outputId": "d44f228c-ec03-46d6-dce8-9ed6716fffae"
      },
      "execution_count": null,
      "outputs": [
        {
          "output_type": "execute_result",
          "data": {
            "text/plain": [
              "     Ambicioso  Expresivo  Sociable  Curioso  Enérgico  Flexible  Humilde  \\\n",
              "0          0.0        2.0       3.0      2.0       2.0       0.0      2.0   \n",
              "1          1.0        2.0       3.0      2.0       3.0       3.0      3.0   \n",
              "2          1.0        1.0       2.0      2.0       2.0       3.0      3.0   \n",
              "3          1.0        2.0       2.0      2.0       3.0       2.0      2.0   \n",
              "4          1.0        2.0       3.0      1.0       3.0       3.0      3.0   \n",
              "..         ...        ...       ...      ...       ...       ...      ...   \n",
              "165        2.0        1.0       2.0      3.0       1.0       3.0      2.0   \n",
              "166        2.0        2.0       3.0      3.0       2.0       3.0      2.0   \n",
              "167        1.0        2.0       2.0      2.0       2.0       3.0      2.0   \n",
              "168        2.0        3.0       3.0      2.0       2.0       2.0      2.0   \n",
              "169        2.0        2.0       3.0      3.0       2.0       3.0      2.0   \n",
              "\n",
              "     Apasionado  Positivo  Presentable  Promedio  Activo  Antiguedad  Edad  \\\n",
              "0           1.0       2.0          2.0       1.6    True           9    34   \n",
              "1           2.0       2.0          3.0       2.4    True           8    43   \n",
              "2           1.0       2.0          1.0       1.8    True           8    36   \n",
              "3           3.0       2.0          3.0       2.2    True           8    32   \n",
              "4           2.0       3.0          1.0       2.2   False           7    26   \n",
              "..          ...       ...          ...       ...     ...         ...   ...   \n",
              "165         1.0       3.0          3.0       2.1    True           0    19   \n",
              "166         2.0       2.0          2.0       2.3    True           0    26   \n",
              "167         1.0       2.0          3.0       2.0    True           0    23   \n",
              "168         2.0       3.0          3.0       2.4    True           0    41   \n",
              "169         1.0       2.0          3.0       2.3    True           0    22   \n",
              "\n",
              "     cod_sexo  cod_nacionalidad  cod_estado_civil  \n",
              "0           1                 0                 1  \n",
              "1           0                 4                 1  \n",
              "2           1                 1                 1  \n",
              "3           0                 1                 1  \n",
              "4           1                 2                 1  \n",
              "..        ...               ...               ...  \n",
              "165         1                 2                 1  \n",
              "166         1                 0                 1  \n",
              "167         0                 0                 1  \n",
              "168         0                 0                 1  \n",
              "169         0                 0                 1  \n",
              "\n",
              "[170 rows x 17 columns]"
            ],
            "text/html": [
              "\n",
              "  <div id=\"df-7c4d3f82-de02-4dfd-87e5-772691c57932\">\n",
              "    <div class=\"colab-df-container\">\n",
              "      <div>\n",
              "<style scoped>\n",
              "    .dataframe tbody tr th:only-of-type {\n",
              "        vertical-align: middle;\n",
              "    }\n",
              "\n",
              "    .dataframe tbody tr th {\n",
              "        vertical-align: top;\n",
              "    }\n",
              "\n",
              "    .dataframe thead th {\n",
              "        text-align: right;\n",
              "    }\n",
              "</style>\n",
              "<table border=\"1\" class=\"dataframe\">\n",
              "  <thead>\n",
              "    <tr style=\"text-align: right;\">\n",
              "      <th></th>\n",
              "      <th>Ambicioso</th>\n",
              "      <th>Expresivo</th>\n",
              "      <th>Sociable</th>\n",
              "      <th>Curioso</th>\n",
              "      <th>Enérgico</th>\n",
              "      <th>Flexible</th>\n",
              "      <th>Humilde</th>\n",
              "      <th>Apasionado</th>\n",
              "      <th>Positivo</th>\n",
              "      <th>Presentable</th>\n",
              "      <th>Promedio</th>\n",
              "      <th>Activo</th>\n",
              "      <th>Antiguedad</th>\n",
              "      <th>Edad</th>\n",
              "      <th>cod_sexo</th>\n",
              "      <th>cod_nacionalidad</th>\n",
              "      <th>cod_estado_civil</th>\n",
              "    </tr>\n",
              "  </thead>\n",
              "  <tbody>\n",
              "    <tr>\n",
              "      <th>0</th>\n",
              "      <td>0.0</td>\n",
              "      <td>2.0</td>\n",
              "      <td>3.0</td>\n",
              "      <td>2.0</td>\n",
              "      <td>2.0</td>\n",
              "      <td>0.0</td>\n",
              "      <td>2.0</td>\n",
              "      <td>1.0</td>\n",
              "      <td>2.0</td>\n",
              "      <td>2.0</td>\n",
              "      <td>1.6</td>\n",
              "      <td>True</td>\n",
              "      <td>9</td>\n",
              "      <td>34</td>\n",
              "      <td>1</td>\n",
              "      <td>0</td>\n",
              "      <td>1</td>\n",
              "    </tr>\n",
              "    <tr>\n",
              "      <th>1</th>\n",
              "      <td>1.0</td>\n",
              "      <td>2.0</td>\n",
              "      <td>3.0</td>\n",
              "      <td>2.0</td>\n",
              "      <td>3.0</td>\n",
              "      <td>3.0</td>\n",
              "      <td>3.0</td>\n",
              "      <td>2.0</td>\n",
              "      <td>2.0</td>\n",
              "      <td>3.0</td>\n",
              "      <td>2.4</td>\n",
              "      <td>True</td>\n",
              "      <td>8</td>\n",
              "      <td>43</td>\n",
              "      <td>0</td>\n",
              "      <td>4</td>\n",
              "      <td>1</td>\n",
              "    </tr>\n",
              "    <tr>\n",
              "      <th>2</th>\n",
              "      <td>1.0</td>\n",
              "      <td>1.0</td>\n",
              "      <td>2.0</td>\n",
              "      <td>2.0</td>\n",
              "      <td>2.0</td>\n",
              "      <td>3.0</td>\n",
              "      <td>3.0</td>\n",
              "      <td>1.0</td>\n",
              "      <td>2.0</td>\n",
              "      <td>1.0</td>\n",
              "      <td>1.8</td>\n",
              "      <td>True</td>\n",
              "      <td>8</td>\n",
              "      <td>36</td>\n",
              "      <td>1</td>\n",
              "      <td>1</td>\n",
              "      <td>1</td>\n",
              "    </tr>\n",
              "    <tr>\n",
              "      <th>3</th>\n",
              "      <td>1.0</td>\n",
              "      <td>2.0</td>\n",
              "      <td>2.0</td>\n",
              "      <td>2.0</td>\n",
              "      <td>3.0</td>\n",
              "      <td>2.0</td>\n",
              "      <td>2.0</td>\n",
              "      <td>3.0</td>\n",
              "      <td>2.0</td>\n",
              "      <td>3.0</td>\n",
              "      <td>2.2</td>\n",
              "      <td>True</td>\n",
              "      <td>8</td>\n",
              "      <td>32</td>\n",
              "      <td>0</td>\n",
              "      <td>1</td>\n",
              "      <td>1</td>\n",
              "    </tr>\n",
              "    <tr>\n",
              "      <th>4</th>\n",
              "      <td>1.0</td>\n",
              "      <td>2.0</td>\n",
              "      <td>3.0</td>\n",
              "      <td>1.0</td>\n",
              "      <td>3.0</td>\n",
              "      <td>3.0</td>\n",
              "      <td>3.0</td>\n",
              "      <td>2.0</td>\n",
              "      <td>3.0</td>\n",
              "      <td>1.0</td>\n",
              "      <td>2.2</td>\n",
              "      <td>False</td>\n",
              "      <td>7</td>\n",
              "      <td>26</td>\n",
              "      <td>1</td>\n",
              "      <td>2</td>\n",
              "      <td>1</td>\n",
              "    </tr>\n",
              "    <tr>\n",
              "      <th>...</th>\n",
              "      <td>...</td>\n",
              "      <td>...</td>\n",
              "      <td>...</td>\n",
              "      <td>...</td>\n",
              "      <td>...</td>\n",
              "      <td>...</td>\n",
              "      <td>...</td>\n",
              "      <td>...</td>\n",
              "      <td>...</td>\n",
              "      <td>...</td>\n",
              "      <td>...</td>\n",
              "      <td>...</td>\n",
              "      <td>...</td>\n",
              "      <td>...</td>\n",
              "      <td>...</td>\n",
              "      <td>...</td>\n",
              "      <td>...</td>\n",
              "    </tr>\n",
              "    <tr>\n",
              "      <th>165</th>\n",
              "      <td>2.0</td>\n",
              "      <td>1.0</td>\n",
              "      <td>2.0</td>\n",
              "      <td>3.0</td>\n",
              "      <td>1.0</td>\n",
              "      <td>3.0</td>\n",
              "      <td>2.0</td>\n",
              "      <td>1.0</td>\n",
              "      <td>3.0</td>\n",
              "      <td>3.0</td>\n",
              "      <td>2.1</td>\n",
              "      <td>True</td>\n",
              "      <td>0</td>\n",
              "      <td>19</td>\n",
              "      <td>1</td>\n",
              "      <td>2</td>\n",
              "      <td>1</td>\n",
              "    </tr>\n",
              "    <tr>\n",
              "      <th>166</th>\n",
              "      <td>2.0</td>\n",
              "      <td>2.0</td>\n",
              "      <td>3.0</td>\n",
              "      <td>3.0</td>\n",
              "      <td>2.0</td>\n",
              "      <td>3.0</td>\n",
              "      <td>2.0</td>\n",
              "      <td>2.0</td>\n",
              "      <td>2.0</td>\n",
              "      <td>2.0</td>\n",
              "      <td>2.3</td>\n",
              "      <td>True</td>\n",
              "      <td>0</td>\n",
              "      <td>26</td>\n",
              "      <td>1</td>\n",
              "      <td>0</td>\n",
              "      <td>1</td>\n",
              "    </tr>\n",
              "    <tr>\n",
              "      <th>167</th>\n",
              "      <td>1.0</td>\n",
              "      <td>2.0</td>\n",
              "      <td>2.0</td>\n",
              "      <td>2.0</td>\n",
              "      <td>2.0</td>\n",
              "      <td>3.0</td>\n",
              "      <td>2.0</td>\n",
              "      <td>1.0</td>\n",
              "      <td>2.0</td>\n",
              "      <td>3.0</td>\n",
              "      <td>2.0</td>\n",
              "      <td>True</td>\n",
              "      <td>0</td>\n",
              "      <td>23</td>\n",
              "      <td>0</td>\n",
              "      <td>0</td>\n",
              "      <td>1</td>\n",
              "    </tr>\n",
              "    <tr>\n",
              "      <th>168</th>\n",
              "      <td>2.0</td>\n",
              "      <td>3.0</td>\n",
              "      <td>3.0</td>\n",
              "      <td>2.0</td>\n",
              "      <td>2.0</td>\n",
              "      <td>2.0</td>\n",
              "      <td>2.0</td>\n",
              "      <td>2.0</td>\n",
              "      <td>3.0</td>\n",
              "      <td>3.0</td>\n",
              "      <td>2.4</td>\n",
              "      <td>True</td>\n",
              "      <td>0</td>\n",
              "      <td>41</td>\n",
              "      <td>0</td>\n",
              "      <td>0</td>\n",
              "      <td>1</td>\n",
              "    </tr>\n",
              "    <tr>\n",
              "      <th>169</th>\n",
              "      <td>2.0</td>\n",
              "      <td>2.0</td>\n",
              "      <td>3.0</td>\n",
              "      <td>3.0</td>\n",
              "      <td>2.0</td>\n",
              "      <td>3.0</td>\n",
              "      <td>2.0</td>\n",
              "      <td>1.0</td>\n",
              "      <td>2.0</td>\n",
              "      <td>3.0</td>\n",
              "      <td>2.3</td>\n",
              "      <td>True</td>\n",
              "      <td>0</td>\n",
              "      <td>22</td>\n",
              "      <td>0</td>\n",
              "      <td>0</td>\n",
              "      <td>1</td>\n",
              "    </tr>\n",
              "  </tbody>\n",
              "</table>\n",
              "<p>170 rows × 17 columns</p>\n",
              "</div>\n",
              "      <button class=\"colab-df-convert\" onclick=\"convertToInteractive('df-7c4d3f82-de02-4dfd-87e5-772691c57932')\"\n",
              "              title=\"Convert this dataframe to an interactive table.\"\n",
              "              style=\"display:none;\">\n",
              "        \n",
              "  <svg xmlns=\"http://www.w3.org/2000/svg\" height=\"24px\"viewBox=\"0 0 24 24\"\n",
              "       width=\"24px\">\n",
              "    <path d=\"M0 0h24v24H0V0z\" fill=\"none\"/>\n",
              "    <path d=\"M18.56 5.44l.94 2.06.94-2.06 2.06-.94-2.06-.94-.94-2.06-.94 2.06-2.06.94zm-11 1L8.5 8.5l.94-2.06 2.06-.94-2.06-.94L8.5 2.5l-.94 2.06-2.06.94zm10 10l.94 2.06.94-2.06 2.06-.94-2.06-.94-.94-2.06-.94 2.06-2.06.94z\"/><path d=\"M17.41 7.96l-1.37-1.37c-.4-.4-.92-.59-1.43-.59-.52 0-1.04.2-1.43.59L10.3 9.45l-7.72 7.72c-.78.78-.78 2.05 0 2.83L4 21.41c.39.39.9.59 1.41.59.51 0 1.02-.2 1.41-.59l7.78-7.78 2.81-2.81c.8-.78.8-2.07 0-2.86zM5.41 20L4 18.59l7.72-7.72 1.47 1.35L5.41 20z\"/>\n",
              "  </svg>\n",
              "      </button>\n",
              "      \n",
              "  <style>\n",
              "    .colab-df-container {\n",
              "      display:flex;\n",
              "      flex-wrap:wrap;\n",
              "      gap: 12px;\n",
              "    }\n",
              "\n",
              "    .colab-df-convert {\n",
              "      background-color: #E8F0FE;\n",
              "      border: none;\n",
              "      border-radius: 50%;\n",
              "      cursor: pointer;\n",
              "      display: none;\n",
              "      fill: #1967D2;\n",
              "      height: 32px;\n",
              "      padding: 0 0 0 0;\n",
              "      width: 32px;\n",
              "    }\n",
              "\n",
              "    .colab-df-convert:hover {\n",
              "      background-color: #E2EBFA;\n",
              "      box-shadow: 0px 1px 2px rgba(60, 64, 67, 0.3), 0px 1px 3px 1px rgba(60, 64, 67, 0.15);\n",
              "      fill: #174EA6;\n",
              "    }\n",
              "\n",
              "    [theme=dark] .colab-df-convert {\n",
              "      background-color: #3B4455;\n",
              "      fill: #D2E3FC;\n",
              "    }\n",
              "\n",
              "    [theme=dark] .colab-df-convert:hover {\n",
              "      background-color: #434B5C;\n",
              "      box-shadow: 0px 1px 3px 1px rgba(0, 0, 0, 0.15);\n",
              "      filter: drop-shadow(0px 1px 2px rgba(0, 0, 0, 0.3));\n",
              "      fill: #FFFFFF;\n",
              "    }\n",
              "  </style>\n",
              "\n",
              "      <script>\n",
              "        const buttonEl =\n",
              "          document.querySelector('#df-7c4d3f82-de02-4dfd-87e5-772691c57932 button.colab-df-convert');\n",
              "        buttonEl.style.display =\n",
              "          google.colab.kernel.accessAllowed ? 'block' : 'none';\n",
              "\n",
              "        async function convertToInteractive(key) {\n",
              "          const element = document.querySelector('#df-7c4d3f82-de02-4dfd-87e5-772691c57932');\n",
              "          const dataTable =\n",
              "            await google.colab.kernel.invokeFunction('convertToInteractive',\n",
              "                                                     [key], {});\n",
              "          if (!dataTable) return;\n",
              "\n",
              "          const docLinkHtml = 'Like what you see? Visit the ' +\n",
              "            '<a target=\"_blank\" href=https://colab.research.google.com/notebooks/data_table.ipynb>data table notebook</a>'\n",
              "            + ' to learn more about interactive tables.';\n",
              "          element.innerHTML = '';\n",
              "          dataTable['output_type'] = 'display_data';\n",
              "          await google.colab.output.renderOutput(dataTable, element);\n",
              "          const docLink = document.createElement('div');\n",
              "          docLink.innerHTML = docLinkHtml;\n",
              "          element.appendChild(docLink);\n",
              "        }\n",
              "      </script>\n",
              "    </div>\n",
              "  </div>\n",
              "  "
            ]
          },
          "metadata": {},
          "execution_count": 37
        }
      ]
    }
  ]
}